{
 "cells": [
  {
   "cell_type": "markdown",
   "metadata": {},
   "source": [
    "## test netcdf+"
   ]
  },
  {
   "cell_type": "markdown",
   "metadata": {},
   "source": [
    "This is a more extensive integration test, if all the features of netcdf+ work as expected."
   ]
  },
  {
   "cell_type": "code",
   "execution_count": 1,
   "metadata": {},
   "outputs": [],
   "source": [
    "from __future__ import print_function\n",
    "\n",
    "import openpathsampling as paths\n",
    "from openpathsampling.netcdfplus import (\n",
    "    NetCDFPlus, \n",
    "    ObjectStore, \n",
    "    StorableObject,\n",
    "    NamedObjectStore,\n",
    "    UniqueNamedObjectStore,\n",
    "    DictStore,\n",
    "    ImmutableDictStore,\n",
    "    VariableStore,\n",
    "    StorableNamedObject\n",
    ")\n",
    "import numpy as np"
   ]
  },
  {
   "cell_type": "code",
   "execution_count": 2,
   "metadata": {},
   "outputs": [],
   "source": [
    "# force numpy print options for test comparison\n",
    "np.set_printoptions(precision=6, formatter={'float_kind': lambda x: \"{:.6f}\".format(x)})"
   ]
  },
  {
   "cell_type": "code",
   "execution_count": 3,
   "metadata": {},
   "outputs": [],
   "source": [
    "class Node(StorableObject):\n",
    "    def __init__(self, value):\n",
    "        super(Node, self).__init__()\n",
    "        self.value = value\n",
    "        \n",
    "    def __repr__(self):\n",
    "        return 'Node(%s)' % self.value"
   ]
  },
  {
   "cell_type": "code",
   "execution_count": 4,
   "metadata": {},
   "outputs": [],
   "source": [
    "class NamedNode(StorableNamedObject):\n",
    "    def __init__(self, value):\n",
    "        super(NamedNode, self).__init__()\n",
    "        self.value = value\n",
    "        \n",
    "    def __repr__(self):\n",
    "        return 'Node(%s)' % self.value"
   ]
  },
  {
   "cell_type": "markdown",
   "metadata": {},
   "source": [
    "### Open new storage\n",
    "\n",
    "try to create a new storage"
   ]
  },
  {
   "cell_type": "code",
   "execution_count": 5,
   "metadata": {},
   "outputs": [],
   "source": [
    "st = NetCDFPlus('test_netcdfplus.nc', mode='w')"
   ]
  },
  {
   "cell_type": "markdown",
   "metadata": {},
   "source": [
    "### Create some stores"
   ]
  },
  {
   "cell_type": "code",
   "execution_count": 6,
   "metadata": {},
   "outputs": [],
   "source": [
    "class NodeIntStore(VariableStore):\n",
    "    def __init__(self):\n",
    "        super(NodeIntStore, self).__init__(Node, ['value'])\n",
    "    \n",
    "    def initialize(self):\n",
    "        super(VariableStore, self).initialize()\n",
    "\n",
    "        # Add here the stores to be imported\n",
    "        self.create_variable('value', 'int')    "
   ]
  },
  {
   "cell_type": "code",
   "execution_count": 7,
   "metadata": {},
   "outputs": [],
   "source": [
    "st.create_store('nodesnamed', NamedObjectStore(NamedNode))\n",
    "st.create_store('nodesunique', UniqueNamedObjectStore(NamedNode))\n",
    "st.create_store('dict', DictStore())\n",
    "st.create_store('dictimmutable', ImmutableDictStore())\n",
    "st.create_store('varstore', NodeIntStore())"
   ]
  },
  {
   "cell_type": "markdown",
   "metadata": {},
   "source": [
    "And the default store. The last store for a particular object is used as the default if no specific store is specified."
   ]
  },
  {
   "cell_type": "code",
   "execution_count": 8,
   "metadata": {},
   "outputs": [],
   "source": [
    "st.create_store('nodes', ObjectStore(Node))"
   ]
  },
  {
   "cell_type": "code",
   "execution_count": 9,
   "metadata": {},
   "outputs": [
    {
     "name": "stdout",
     "output_type": "stream",
     "text": [
      "store.nodes[Node] : (not created)\n"
     ]
    }
   ],
   "source": [
    "# NBVAL_IGNORE_OUTPUT\n",
    "# lazy because output checking fails in Py3k tests -- why is that?\n",
    "print(st.find_store(Node))"
   ]
  },
  {
   "cell_type": "markdown",
   "metadata": {},
   "source": [
    "Initialize the store"
   ]
  },
  {
   "cell_type": "code",
   "execution_count": 10,
   "metadata": {},
   "outputs": [],
   "source": [
    "st.finalize_stores()"
   ]
  },
  {
   "cell_type": "code",
   "execution_count": 11,
   "metadata": {},
   "outputs": [],
   "source": [
    "v = st.variables['nodes_uuid']"
   ]
  },
  {
   "cell_type": "code",
   "execution_count": 12,
   "metadata": {},
   "outputs": [
    {
     "data": {
      "text/plain": [
       "[65536]"
      ]
     },
     "execution_count": 12,
     "metadata": {},
     "output_type": "execute_result"
    }
   ],
   "source": [
    "v.chunking()"
   ]
  },
  {
   "cell_type": "code",
   "execution_count": 13,
   "metadata": {},
   "outputs": [
    {
     "name": "stdout",
     "output_type": "stream",
     "text": [
      "store.nodes[Node] : 0 object(s)\n"
     ]
    }
   ],
   "source": [
    "print(st.find_store(Node))"
   ]
  },
  {
   "cell_type": "code",
   "execution_count": 14,
   "metadata": {},
   "outputs": [],
   "source": [
    "# NBVAL_IGNORE_OUTPUT\n",
    "st.nodes.save(Node(10));"
   ]
  },
  {
   "cell_type": "code",
   "execution_count": 15,
   "metadata": {},
   "outputs": [],
   "source": [
    "st.close()"
   ]
  },
  {
   "cell_type": "markdown",
   "metadata": {},
   "source": [
    "### Reopen empty storage"
   ]
  },
  {
   "cell_type": "code",
   "execution_count": 16,
   "metadata": {},
   "outputs": [],
   "source": [
    "st = NetCDFPlus('test_netcdfplus.nc', mode='a')"
   ]
  },
  {
   "cell_type": "markdown",
   "metadata": {},
   "source": [
    "set caching of the new stores"
   ]
  },
  {
   "cell_type": "code",
   "execution_count": 17,
   "metadata": {},
   "outputs": [],
   "source": [
    "for store in st.stores:\n",
    "    store.set_caching(10)"
   ]
  },
  {
   "cell_type": "markdown",
   "metadata": {},
   "source": [
    "Check if the stores were correctly loaded"
   ]
  },
  {
   "cell_type": "code",
   "execution_count": 18,
   "metadata": {},
   "outputs": [],
   "source": [
    "assert('nodes' in st.objects)"
   ]
  },
  {
   "cell_type": "code",
   "execution_count": 19,
   "metadata": {},
   "outputs": [],
   "source": [
    "assert('stores' in st.objects)"
   ]
  },
  {
   "cell_type": "code",
   "execution_count": 20,
   "metadata": {},
   "outputs": [],
   "source": [
    "assert(len(st.nodes) == 1)"
   ]
  },
  {
   "cell_type": "code",
   "execution_count": 21,
   "metadata": {},
   "outputs": [],
   "source": [
    "assert(len(st.stores) == 7)"
   ]
  },
  {
   "cell_type": "code",
   "execution_count": 22,
   "metadata": {},
   "outputs": [
    {
     "name": "stdout",
     "output_type": "stream",
     "text": [
      "store.attributes[PseudoAttribute] : 0 object(s) WeakLRUCache(0/0 of 10/Inf)   \n",
      "store.nodesnamed[NamedNode] : 0 object(s) WeakLRUCache(0/0 of 10/Inf)   \n",
      "store.nodesunique[NamedNode] : 0 object(s) WeakLRUCache(0/0 of 10/Inf)   \n",
      "store.dict[None/ANY] : 0 object(s)       WeakLRUCache(0/0 of 10/Inf)   \n",
      "store.dictimmutable[None/ANY] : 0 object(s) WeakLRUCache(0/0 of 10/Inf)   \n",
      "store.varstore[Node] : 0 object(s)       WeakLRUCache(0/0 of 10/Inf)   \n",
      "store.nodes[Node] : 1 object(s)          WeakLRUCache(0/0 of 10/Inf)   \n"
     ]
    }
   ],
   "source": [
    "for store in st.stores:\n",
    "    print('{:40} {:30}'.format(str(store), str(store.cache)))"
   ]
  },
  {
   "cell_type": "markdown",
   "metadata": {},
   "source": [
    "### Create variables types"
   ]
  },
  {
   "cell_type": "markdown",
   "metadata": {},
   "source": [
    "Get a list of all possible variable types"
   ]
  },
  {
   "cell_type": "code",
   "execution_count": 23,
   "metadata": {},
   "outputs": [
    {
     "name": "stdout",
     "output_type": "stream",
     "text": [
      "['bool', 'float', 'index', 'int', 'json', 'jsonobj', 'lazyobj', 'lazyobj.attributes', 'lazyobj.dict', 'lazyobj.dictimmutable', 'lazyobj.nodes', 'lazyobj.nodesnamed', 'lazyobj.nodesunique', 'lazyobj.stores', 'lazyobj.varstore', 'lazyuuid.attributes', 'lazyuuid.dict', 'lazyuuid.dictimmutable', 'lazyuuid.nodes', 'lazyuuid.nodesnamed', 'lazyuuid.nodesunique', 'lazyuuid.stores', 'lazyuuid.varstore', 'length', 'long', 'numpy.float32', 'numpy.float64', 'numpy.int16', 'numpy.int32', 'numpy.int64', 'numpy.int8', 'numpy.uint16', 'numpy.uint32', 'numpy.uint64', 'numpy.uint8', 'obj', 'obj.attributes', 'obj.dict', 'obj.dictimmutable', 'obj.nodes', 'obj.nodesnamed', 'obj.nodesunique', 'obj.stores', 'obj.varstore', 'store', 'str', 'uuid', 'uuid.attributes', 'uuid.dict', 'uuid.dictimmutable', 'uuid.nodes', 'uuid.nodesnamed', 'uuid.nodesunique', 'uuid.stores', 'uuid.varstore']\n"
     ]
    }
   ],
   "source": [
    "# NBVAL_IGNORE_OUTPUT\n",
    "print(sorted(st.get_var_types()))"
   ]
  },
  {
   "cell_type": "markdown",
   "metadata": {},
   "source": [
    "Make a dimension on length 2 to simplify dimension nameing."
   ]
  },
  {
   "cell_type": "markdown",
   "metadata": {},
   "source": [
    "Now we construct for each type a corresponding variable of dimensions 2x2x2."
   ]
  },
  {
   "cell_type": "code",
   "execution_count": 24,
   "metadata": {},
   "outputs": [],
   "source": [
    "st.create_dimension('pair', 2)"
   ]
  },
  {
   "cell_type": "code",
   "execution_count": 25,
   "metadata": {},
   "outputs": [],
   "source": [
    "for var_type in st.get_var_types():\n",
    "    st.create_variable(var_type, var_type, dimensions=('pair', 'pair', 'pair'))"
   ]
  },
  {
   "cell_type": "code",
   "execution_count": 26,
   "metadata": {},
   "outputs": [],
   "source": [
    "st.update_delegates()"
   ]
  },
  {
   "cell_type": "code",
   "execution_count": 27,
   "metadata": {},
   "outputs": [
    {
     "name": "stdout",
     "output_type": "stream",
     "text": [
      "attributes_cache ('attributes',)\n",
      "attributes_json ('attributes',)\n",
      "attributes_name ('attributes',)\n",
      "attributes_uuid ('attributes',)\n",
      "bool ('pair', 'pair', 'pair')\n",
      "dict_json ('dict',)\n",
      "dict_name ('dict',)\n",
      "dict_uuid ('dict',)\n",
      "dictimmutable_json ('dictimmutable',)\n",
      "dictimmutable_name ('dictimmutable',)\n",
      "dictimmutable_uuid ('dictimmutable',)\n",
      "float ('pair', 'pair', 'pair')\n",
      "index ('pair', 'pair', 'pair')\n",
      "int ('pair', 'pair', 'pair')\n",
      "json ('pair', 'pair', 'pair')\n",
      "jsonobj ('pair', 'pair', 'pair')\n",
      "lazyobj ('pair', 'pair', 'pair', 'pair')\n",
      "lazyobj.attributes ('pair', 'pair', 'pair')\n",
      "lazyobj.dict ('pair', 'pair', 'pair')\n",
      "lazyobj.dictimmutable ('pair', 'pair', 'pair')\n",
      "lazyobj.nodes ('pair', 'pair', 'pair')\n",
      "lazyobj.nodesnamed ('pair', 'pair', 'pair')\n",
      "lazyobj.nodesunique ('pair', 'pair', 'pair')\n",
      "lazyobj.stores ('pair', 'pair', 'pair')\n",
      "lazyobj.varstore ('pair', 'pair', 'pair')\n",
      "lazyuuid.attributes ('pair', 'pair', 'pair')\n",
      "lazyuuid.dict ('pair', 'pair', 'pair')\n",
      "lazyuuid.dictimmutable ('pair', 'pair', 'pair')\n",
      "lazyuuid.nodes ('pair', 'pair', 'pair')\n",
      "lazyuuid.nodesnamed ('pair', 'pair', 'pair')\n",
      "lazyuuid.nodesunique ('pair', 'pair', 'pair')\n",
      "lazyuuid.stores ('pair', 'pair', 'pair')\n",
      "lazyuuid.varstore ('pair', 'pair', 'pair')\n",
      "length ('pair', 'pair', 'pair')\n",
      "long ('pair', 'pair', 'pair')\n",
      "nodes_json ('nodes',)\n",
      "nodes_uuid ('nodes',)\n",
      "nodesnamed_json ('nodesnamed',)\n",
      "nodesnamed_name ('nodesnamed',)\n",
      "nodesnamed_uuid ('nodesnamed',)\n",
      "nodesunique_json ('nodesunique',)\n",
      "nodesunique_name ('nodesunique',)\n",
      "nodesunique_uuid ('nodesunique',)\n",
      "numpy.float32 ('pair', 'pair', 'pair')\n",
      "numpy.float64 ('pair', 'pair', 'pair')\n",
      "numpy.int16 ('pair', 'pair', 'pair')\n",
      "numpy.int32 ('pair', 'pair', 'pair')\n",
      "numpy.int64 ('pair', 'pair', 'pair')\n",
      "numpy.int8 ('pair', 'pair', 'pair')\n",
      "numpy.uint16 ('pair', 'pair', 'pair')\n",
      "numpy.uint32 ('pair', 'pair', 'pair')\n",
      "numpy.uint64 ('pair', 'pair', 'pair')\n",
      "numpy.uint8 ('pair', 'pair', 'pair')\n",
      "obj ('pair', 'pair', 'pair', 'pair')\n",
      "obj.attributes ('pair', 'pair', 'pair')\n",
      "obj.dict ('pair', 'pair', 'pair')\n",
      "obj.dictimmutable ('pair', 'pair', 'pair')\n",
      "obj.nodes ('pair', 'pair', 'pair')\n",
      "obj.nodesnamed ('pair', 'pair', 'pair')\n",
      "obj.nodesunique ('pair', 'pair', 'pair')\n",
      "obj.stores ('pair', 'pair', 'pair')\n",
      "obj.varstore ('pair', 'pair', 'pair')\n",
      "store ('pair', 'pair', 'pair')\n",
      "stores_json ('stores',)\n",
      "stores_name ('stores',)\n",
      "stores_uuid ('stores',)\n",
      "str ('pair', 'pair', 'pair')\n",
      "uuid ('pair', 'pair', 'pair')\n",
      "uuid.attributes ('pair', 'pair', 'pair')\n",
      "uuid.dict ('pair', 'pair', 'pair')\n",
      "uuid.dictimmutable ('pair', 'pair', 'pair')\n",
      "uuid.nodes ('pair', 'pair', 'pair')\n",
      "uuid.nodesnamed ('pair', 'pair', 'pair')\n",
      "uuid.nodesunique ('pair', 'pair', 'pair')\n",
      "uuid.stores ('pair', 'pair', 'pair')\n",
      "uuid.varstore ('pair', 'pair', 'pair')\n",
      "varstore_uuid ('varstore',)\n",
      "varstore_value ('varstore',)\n"
     ]
    }
   ],
   "source": [
    "# NBVAL_IGNORE_OUTPUT\n",
    "for var_name, var in sorted(st.variables.items()):\n",
    "    print(var_name, var.dimensions)"
   ]
  },
  {
   "cell_type": "code",
   "execution_count": 28,
   "metadata": {},
   "outputs": [
    {
     "name": "stdout",
     "output_type": "stream",
     "text": [
      "attributes_cache\n",
      "attributes_json\n",
      "attributes_name\n",
      "attributes_uuid\n",
      "bool\n",
      "dict_json\n",
      "dict_name\n",
      "dict_uuid\n",
      "dictimmutable_json\n",
      "dictimmutable_name\n",
      "dictimmutable_uuid\n",
      "float\n",
      "index\n",
      "int\n",
      "json\n",
      "jsonobj\n",
      "lazyobj\n",
      "lazyobj.attributes\n",
      "lazyobj.dict\n",
      "lazyobj.dictimmutable\n",
      "lazyobj.nodes\n",
      "lazyobj.nodesnamed\n",
      "lazyobj.nodesunique\n",
      "lazyobj.stores\n",
      "lazyobj.varstore\n",
      "lazyuuid.attributes\n",
      "lazyuuid.dict\n",
      "lazyuuid.dictimmutable\n",
      "lazyuuid.nodes\n",
      "lazyuuid.nodesnamed\n",
      "lazyuuid.nodesunique\n",
      "lazyuuid.stores\n",
      "lazyuuid.varstore\n",
      "length\n",
      "long\n",
      "nodes_json\n",
      "nodes_uuid\n",
      "nodesnamed_json\n",
      "nodesnamed_name\n",
      "nodesnamed_uuid\n",
      "nodesunique_json\n",
      "nodesunique_name\n",
      "nodesunique_uuid\n",
      "numpy.float32\n",
      "numpy.float64\n",
      "numpy.int16\n",
      "numpy.int32\n",
      "numpy.int64\n",
      "numpy.int8\n",
      "numpy.uint16\n",
      "numpy.uint32\n",
      "numpy.uint64\n",
      "numpy.uint8\n",
      "obj\n",
      "obj.attributes\n",
      "obj.dict\n",
      "obj.dictimmutable\n",
      "obj.nodes\n",
      "obj.nodesnamed\n",
      "obj.nodesunique\n",
      "obj.stores\n",
      "obj.varstore\n",
      "store\n",
      "stores_json\n",
      "stores_name\n",
      "stores_uuid\n",
      "str\n",
      "uuid\n",
      "uuid.attributes\n",
      "uuid.dict\n",
      "uuid.dictimmutable\n",
      "uuid.nodes\n",
      "uuid.nodesnamed\n",
      "uuid.nodesunique\n",
      "uuid.stores\n",
      "uuid.varstore\n",
      "varstore_uuid\n",
      "varstore_value\n"
     ]
    }
   ],
   "source": [
    "for var in sorted(st.vars):\n",
    "    print(var)"
   ]
  },
  {
   "cell_type": "markdown",
   "metadata": {},
   "source": [
    "#### Bool"
   ]
  },
  {
   "cell_type": "code",
   "execution_count": 29,
   "metadata": {},
   "outputs": [],
   "source": [
    "st.vars['bool'][:] = True"
   ]
  },
  {
   "cell_type": "code",
   "execution_count": 30,
   "metadata": {},
   "outputs": [
    {
     "name": "stdout",
     "output_type": "stream",
     "text": [
      "[[[True, True], [True, True]], [[True, True], [True, True]]]\n"
     ]
    }
   ],
   "source": [
    "print(st.vars['bool'][:])"
   ]
  },
  {
   "cell_type": "markdown",
   "metadata": {},
   "source": [
    "#### Float"
   ]
  },
  {
   "cell_type": "code",
   "execution_count": 31,
   "metadata": {},
   "outputs": [],
   "source": [
    "st.vars['float'][1,1] = 1.0"
   ]
  },
  {
   "cell_type": "code",
   "execution_count": 32,
   "metadata": {},
   "outputs": [
    {
     "name": "stdout",
     "output_type": "stream",
     "text": [
      "[[[None, None], [None, None]], [[None, None], [1.0, 1.0]]]\n"
     ]
    }
   ],
   "source": [
    "print(st.vars['float'][:])"
   ]
  },
  {
   "cell_type": "markdown",
   "metadata": {},
   "source": [
    "#### Index\n",
    "`Index` is special in the sense that it supports only integers that are non-negative. Negative values will be interpreted as `None`"
   ]
  },
  {
   "cell_type": "code",
   "execution_count": 33,
   "metadata": {},
   "outputs": [],
   "source": [
    "st.vars['index'][0,1,0] = 10\n",
    "st.vars['index'][0,1,1] = -1\n",
    "st.vars['index'][0,0] = None"
   ]
  },
  {
   "cell_type": "code",
   "execution_count": 34,
   "metadata": {},
   "outputs": [
    {
     "name": "stdout",
     "output_type": "stream",
     "text": [
      "[10, None]\n",
      "[None, None]\n"
     ]
    }
   ],
   "source": [
    "print(st.vars['index'][0,1])\n",
    "print(st.vars['index'][0,0])"
   ]
  },
  {
   "cell_type": "markdown",
   "metadata": {},
   "source": [
    "#### Int"
   ]
  },
  {
   "cell_type": "code",
   "execution_count": 35,
   "metadata": {},
   "outputs": [],
   "source": [
    "st.vars['int'][0,1,0] = 10\n",
    "st.vars['int'][0,1,1] = -1"
   ]
  },
  {
   "cell_type": "code",
   "execution_count": 36,
   "metadata": {},
   "outputs": [
    {
     "name": "stdout",
     "output_type": "stream",
     "text": [
      "[[[None, None], [10, -1]], [[None, None], [None, None]]]\n"
     ]
    }
   ],
   "source": [
    "print(st.vars['int'][:])"
   ]
  },
  {
   "cell_type": "markdown",
   "metadata": {},
   "source": [
    "#### JSON"
   ]
  },
  {
   "cell_type": "markdown",
   "metadata": {},
   "source": [
    "The variable type JSON encode the given object as a JSON string in the shortest possible way. This includes using referenes to storable objects. "
   ]
  },
  {
   "cell_type": "code",
   "execution_count": 37,
   "metadata": {},
   "outputs": [],
   "source": [
    "st.vars['json'][0,1,1] = {'Hallo': 2, 'Test': 3}"
   ]
  },
  {
   "cell_type": "code",
   "execution_count": 38,
   "metadata": {},
   "outputs": [
    {
     "name": "stdout",
     "output_type": "stream",
     "text": [
      "{'Hallo': 2, 'Test': 3}\n"
     ]
    }
   ],
   "source": [
    "# NBVAL_IGNORE_OUTPUT\n",
    "print(st.vars['json'][0,1,1])"
   ]
  },
  {
   "cell_type": "code",
   "execution_count": 39,
   "metadata": {},
   "outputs": [],
   "source": [
    "st.vars['json'][0,1,0] = Node(10)"
   ]
  },
  {
   "cell_type": "code",
   "execution_count": 40,
   "metadata": {},
   "outputs": [
    {
     "name": "stdout",
     "output_type": "stream",
     "text": [
      "['{\"_hex_uuid\":\"0xe3d4c53a010011ef9d1f000000000026\",\"_store\":\"nodes\"}'\n",
      " '{\"Hallo\":2,\"Test\":3}']\n"
     ]
    }
   ],
   "source": [
    "# NBVAL_IGNORE_OUTPUT\n",
    "print(st.variables['json'][0,1,:])"
   ]
  },
  {
   "cell_type": "markdown",
   "metadata": {},
   "source": [
    "All object types registered as being Storable by subclassing from `openpathsampling.base.StorableObject`."
   ]
  },
  {
   "cell_type": "markdown",
   "metadata": {},
   "source": [
    "#### JSONObj"
   ]
  },
  {
   "cell_type": "markdown",
   "metadata": {},
   "source": [
    "A JSON serializable object. This can be normal very simple python objects, plus numpy arrays, and objects that implement `to_dict` and `from_dict`. This is almost the same as _JSON_ except if the object to be serialized is a storable object itself, it will not be referenced but the object itself will be turned into a JSON representation."
   ]
  },
  {
   "cell_type": "code",
   "execution_count": 41,
   "metadata": {},
   "outputs": [],
   "source": [
    "nn = Node(10)\n",
    "st.vars['jsonobj'][1,0,0] = nn"
   ]
  },
  {
   "cell_type": "code",
   "execution_count": 42,
   "metadata": {},
   "outputs": [
    {
     "name": "stdout",
     "output_type": "stream",
     "text": [
      "{\"_cls\":\"Node\",\"_dict\":{\"value\":10}}\n"
     ]
    }
   ],
   "source": [
    "print(st.variables['jsonobj'][1,0,0])"
   ]
  },
  {
   "cell_type": "code",
   "execution_count": 43,
   "metadata": {},
   "outputs": [
    {
     "data": {
      "text/plain": [
       "Node(10)"
      ]
     },
     "execution_count": 43,
     "metadata": {},
     "output_type": "execute_result"
    }
   ],
   "source": [
    "st.vars['jsonobj'][1,0,0]"
   ]
  },
  {
   "cell_type": "markdown",
   "metadata": {},
   "source": [
    "#### Numpy"
   ]
  },
  {
   "cell_type": "code",
   "execution_count": 44,
   "metadata": {},
   "outputs": [],
   "source": [
    "st.vars['numpy.float32'][:] = np.ones((2,2,2)) * 3.0\n",
    "st.vars['numpy.float32'][0] = np.ones((2,2)) * 7.0"
   ]
  },
  {
   "cell_type": "code",
   "execution_count": 45,
   "metadata": {},
   "outputs": [
    {
     "name": "stdout",
     "output_type": "stream",
     "text": [
      "[[[7.000000 7.000000]\n",
      "  [7.000000 7.000000]]\n",
      "\n",
      " [[3.000000 3.000000]\n",
      "  [3.000000 3.000000]]]\n"
     ]
    }
   ],
   "source": [
    "print(st.vars['numpy.float32'][:])"
   ]
  },
  {
   "cell_type": "markdown",
   "metadata": {},
   "source": [
    "#### Obj"
   ]
  },
  {
   "cell_type": "markdown",
   "metadata": {},
   "source": [
    "You can store objects of a type which you have previously added. For loading you need to make sure that the class (and the store if set manually) is present when you load from the store."
   ]
  },
  {
   "cell_type": "code",
   "execution_count": 46,
   "metadata": {},
   "outputs": [],
   "source": [
    "st.vars['obj.nodes'][0,0,0] = Node(1)\n",
    "st.vars['obj.nodes'][0,1,0] = Node('Second')\n",
    "st.vars['obj.nodes'][0,0,1] = Node('Third')"
   ]
  },
  {
   "cell_type": "code",
   "execution_count": 47,
   "metadata": {},
   "outputs": [],
   "source": [
    "# st.vars['obj.nodes'][1] = Node(20)"
   ]
  },
  {
   "cell_type": "code",
   "execution_count": 48,
   "metadata": {},
   "outputs": [
    {
     "name": "stdout",
     "output_type": "stream",
     "text": [
      "[[['e3d4c53a-0100-11ef-9d1f-00000000002c'\n",
      "   'e3d4c53a-0100-11ef-9d1f-000000000030']\n",
      "  ['e3d4c53a-0100-11ef-9d1f-00000000002e' '']]\n",
      "\n",
      " [['' '']\n",
      "  ['' '']]]\n",
      "['{\"_cls\":\"Node\",\"_dict\":{\"value\":10}}'\n",
      " '{\"_cls\":\"Node\",\"_dict\":{\"value\":10}}'\n",
      " '{\"_cls\":\"Node\",\"_dict\":{\"value\":1}}'\n",
      " '{\"_cls\":\"Node\",\"_dict\":{\"value\":\"Second\"}}'\n",
      " '{\"_cls\":\"Node\",\"_dict\":{\"value\":\"Third\"}}']\n"
     ]
    }
   ],
   "source": [
    "# NBVAL_IGNORE_OUTPUT\n",
    "print(st.variables['obj.nodes'][:])\n",
    "print(st.variables['nodes_json'][:])"
   ]
  },
  {
   "cell_type": "code",
   "execution_count": 49,
   "metadata": {},
   "outputs": [
    {
     "name": "stdout",
     "output_type": "stream",
     "text": [
      "Node(1)\n",
      "<class '__main__.Node'>\n"
     ]
    }
   ],
   "source": [
    "print(st.vars['obj.nodes'][0,0,0])\n",
    "print(type(st.vars['obj.nodes'][0,0,0]))"
   ]
  },
  {
   "cell_type": "markdown",
   "metadata": {},
   "source": [
    "#### lazy"
   ]
  },
  {
   "cell_type": "markdown",
   "metadata": {},
   "source": [
    "Lazy loading will reconstruct an object using proxies. These proxies behave almost like the loaded object, but will delay loading of the object until it is accessed. Saving for lazy objects is the same as for regular objects. Only loading return a proxy object."
   ]
  },
  {
   "cell_type": "code",
   "execution_count": 50,
   "metadata": {},
   "outputs": [],
   "source": [
    "st.vars['lazyobj.nodes'][0,0,0] = Node('First')"
   ]
  },
  {
   "cell_type": "markdown",
   "metadata": {},
   "source": [
    "The type of the returned object is `LoaderProxy` while the class is the actual class is the baseclass loaded by the store to not trigger loading when the `__class__` attribute is accessed. The actual object can be accessed by `__subject__` and doing so will trigger loading the object. All regular attributes will be delegated to `__subject__.attribute` and also trigger loading."
   ]
  },
  {
   "cell_type": "code",
   "execution_count": 51,
   "metadata": {},
   "outputs": [
    {
     "name": "stdout",
     "output_type": "stream",
     "text": [
      "Type:    <class 'openpathsampling.netcdfplus.proxy.LoaderProxy'>\n",
      "Class:   <class '__main__.Node'>\n",
      "Content: {'__uuid__': 302839522207420201522962921396994310194, 'value': 'First'}\n",
      "Access:  First\n"
     ]
    }
   ],
   "source": [
    "# NBVAL_IGNORE_OUTPUT\n",
    "proxy = st.vars['lazyobj.nodes'][0,0,0]\n",
    "print('Type:   ', type(proxy))\n",
    "print('Class:  ', proxy.__class__)\n",
    "print('Content:', proxy.__subject__.__dict__)\n",
    "print('Access: ', proxy.value)"
   ]
  },
  {
   "cell_type": "markdown",
   "metadata": {},
   "source": [
    "### Load/Save objects"
   ]
  },
  {
   "cell_type": "markdown",
   "metadata": {},
   "source": [
    "Note that there are now 6 `Node` objects."
   ]
  },
  {
   "cell_type": "code",
   "execution_count": 52,
   "metadata": {},
   "outputs": [
    {
     "name": "stdout",
     "output_type": "stream",
     "text": [
      "[Node(10), Node(10), Node(1), Node(Second), Node(Third), Node(First)]\n"
     ]
    }
   ],
   "source": [
    "print(st.nodes[:])"
   ]
  },
  {
   "cell_type": "code",
   "execution_count": 53,
   "metadata": {},
   "outputs": [],
   "source": [
    "# NBVAL_IGNORE_OUTPUT\n",
    "obj = Node('BlaBla')\n",
    "st.nodes.save(obj);"
   ]
  },
  {
   "cell_type": "markdown",
   "metadata": {},
   "source": [
    "Saving without specifying should use store `nodes` which was defined last."
   ]
  },
  {
   "cell_type": "code",
   "execution_count": 54,
   "metadata": {},
   "outputs": [
    {
     "name": "stdout",
     "output_type": "stream",
     "text": [
      "7\n",
      "8\n"
     ]
    }
   ],
   "source": [
    "print(len(st.nodes))\n",
    "obj = Node('BlaBlaBla')\n",
    "st.save(obj)\n",
    "print(len(st.nodes))"
   ]
  },
  {
   "cell_type": "markdown",
   "metadata": {},
   "source": [
    "Get the index of the obj in the storage"
   ]
  },
  {
   "cell_type": "code",
   "execution_count": 55,
   "metadata": {},
   "outputs": [
    {
     "name": "stdout",
     "output_type": "stream",
     "text": [
      "7\n"
     ]
    }
   ],
   "source": [
    "print(st.idx(obj))"
   ]
  },
  {
   "cell_type": "markdown",
   "metadata": {},
   "source": [
    "And test the different ways to access the contained `json`"
   ]
  },
  {
   "cell_type": "markdown",
   "metadata": {},
   "source": [
    "#### 1. direct `json` using `variables` in the store"
   ]
  },
  {
   "cell_type": "code",
   "execution_count": 56,
   "metadata": {},
   "outputs": [
    {
     "name": "stdout",
     "output_type": "stream",
     "text": [
      "{\"_cls\":\"Node\",\"_dict\":{\"value\":\"BlaBlaBla\"}}\n"
     ]
    }
   ],
   "source": [
    "print(st.nodes.variables['json'][st.idx(obj)])"
   ]
  },
  {
   "cell_type": "markdown",
   "metadata": {},
   "source": [
    "#### 2. direct `json` using `variables` in the full storage"
   ]
  },
  {
   "cell_type": "code",
   "execution_count": 57,
   "metadata": {},
   "outputs": [
    {
     "name": "stdout",
     "output_type": "stream",
     "text": [
      "{\"_cls\":\"Node\",\"_dict\":{\"value\":\"BlaBlaBla\"}}\n"
     ]
    }
   ],
   "source": [
    "print(st.variables['nodes_json'][st.idx(obj)])"
   ]
  },
  {
   "cell_type": "markdown",
   "metadata": {},
   "source": [
    "#### 3. indirect `json` and reconstruct using `vars` in the store"
   ]
  },
  {
   "cell_type": "code",
   "execution_count": 58,
   "metadata": {},
   "outputs": [
    {
     "name": "stdout",
     "output_type": "stream",
     "text": [
      "Node(BlaBlaBla)\n",
      "False\n"
     ]
    }
   ],
   "source": [
    "print(st.nodes.vars['json'][st.idx(obj)])\n",
    "print(st.nodes.vars['json'][st.idx(obj)] is obj)"
   ]
  },
  {
   "cell_type": "markdown",
   "metadata": {},
   "source": [
    "#### 4. using the store accessor  `__getitem__` in the store"
   ]
  },
  {
   "cell_type": "code",
   "execution_count": 59,
   "metadata": {},
   "outputs": [
    {
     "name": "stdout",
     "output_type": "stream",
     "text": [
      "Node(BlaBlaBla)\n",
      "True\n"
     ]
    }
   ],
   "source": [
    "print(st.nodes[st.idx(obj)])\n",
    "print(st.nodes[st.idx(obj)] is obj)"
   ]
  },
  {
   "cell_type": "markdown",
   "metadata": {},
   "source": [
    "One importance difference is that a store like `nodes` has a cache (which we set to 10 before). Using `vars` will not use a store and hence create a new object!"
   ]
  },
  {
   "cell_type": "markdown",
   "metadata": {
    "collapsed": true,
    "jupyter": {
     "outputs_hidden": true
    }
   },
   "source": [
    "### ObjectStores"
   ]
  },
  {
   "cell_type": "markdown",
   "metadata": {},
   "source": [
    "ObjectStores are resposible to save and load objects. There are now 6 types available."
   ]
  },
  {
   "cell_type": "markdown",
   "metadata": {},
   "source": [
    "#### ObjectStore"
   ]
  },
  {
   "cell_type": "markdown",
   "metadata": {},
   "source": [
    "The basic store which we have used before"
   ]
  },
  {
   "cell_type": "markdown",
   "metadata": {},
   "source": [
    "#### NamedObjectStore"
   ]
  },
  {
   "cell_type": "markdown",
   "metadata": {},
   "source": [
    "Supports to give objects names"
   ]
  },
  {
   "cell_type": "code",
   "execution_count": 60,
   "metadata": {},
   "outputs": [],
   "source": [
    "n = NamedNode(3)"
   ]
  },
  {
   "cell_type": "markdown",
   "metadata": {},
   "source": [
    "NamedObjects have a `.name` property, which has a default."
   ]
  },
  {
   "cell_type": "code",
   "execution_count": 61,
   "metadata": {},
   "outputs": [
    {
     "name": "stdout",
     "output_type": "stream",
     "text": [
      "[NamedNode]\n"
     ]
    }
   ],
   "source": [
    "print(n.name)"
   ]
  },
  {
   "cell_type": "markdown",
   "metadata": {},
   "source": [
    "and can be set."
   ]
  },
  {
   "cell_type": "code",
   "execution_count": 62,
   "metadata": {},
   "outputs": [
    {
     "name": "stdout",
     "output_type": "stream",
     "text": [
      "OneNode\n",
      "MyNode\n"
     ]
    }
   ],
   "source": [
    "n.name = 'OneNode'\n",
    "print(n.name)\n",
    "n.name = 'MyNode'\n",
    "print(n.name)"
   ]
  },
  {
   "cell_type": "markdown",
   "metadata": {},
   "source": [
    "Once the object is saved, the name cannot be changed anymore."
   ]
  },
  {
   "cell_type": "code",
   "execution_count": 63,
   "metadata": {},
   "outputs": [],
   "source": [
    "# NBVAL_IGNORE_OUTPUT\n",
    "st.nodesnamed.save(n);"
   ]
  },
  {
   "cell_type": "code",
   "execution_count": 64,
   "metadata": {},
   "outputs": [
    {
     "name": "stdout",
     "output_type": "stream",
     "text": [
      "# We had an exception\n",
      "Objects cannot be renamed to `NewName` after is has been saved, it is already named `MyNode`\n"
     ]
    }
   ],
   "source": [
    "try:\n",
    "    n.name = 'NewName'\n",
    "except ValueError as e:\n",
    "    print('# We had an exception')\n",
    "    print(e)\n",
    "else:\n",
    "    raise RuntimeWarning('This should have produced an error')"
   ]
  },
  {
   "cell_type": "markdown",
   "metadata": {},
   "source": [
    "usually names are not unique (see next store). So we can have more than one object with the same name."
   ]
  },
  {
   "cell_type": "code",
   "execution_count": 65,
   "metadata": {},
   "outputs": [],
   "source": [
    "# NBVAL_IGNORE_OUTPUT\n",
    "n2 = NamedNode(9)\n",
    "n2.name = 'MyNode'\n",
    "st.nodesnamed.save(n2);"
   ]
  },
  {
   "cell_type": "markdown",
   "metadata": {},
   "source": [
    "See the list of named objects"
   ]
  },
  {
   "cell_type": "code",
   "execution_count": 66,
   "metadata": {},
   "outputs": [
    {
     "name": "stdout",
     "output_type": "stream",
     "text": [
      "{'MyNode': {0, 1}}\n"
     ]
    }
   ],
   "source": [
    "# NBVAL_IGNORE_OUTPUT\n",
    "print(st.nodesnamed.name_idx)"
   ]
  },
  {
   "cell_type": "markdown",
   "metadata": {},
   "source": [
    "#### UniqueNamedObjectStore"
   ]
  },
  {
   "cell_type": "markdown",
   "metadata": {},
   "source": [
    "The forces names to be unique"
   ]
  },
  {
   "cell_type": "code",
   "execution_count": 67,
   "metadata": {},
   "outputs": [],
   "source": [
    "# NBVAL_IGNORE_OUTPUT\n",
    "st.nodesunique.save(n);"
   ]
  },
  {
   "cell_type": "markdown",
   "metadata": {},
   "source": [
    "Note here that an object can be store more than once in a storage, but only if more than one store supports the file type."
   ]
  },
  {
   "cell_type": "code",
   "execution_count": 68,
   "metadata": {},
   "outputs": [
    {
     "name": "stdout",
     "output_type": "stream",
     "text": [
      "# We had an exception\n",
      "Current name \"MyNode\" is already taken in unique name store. This means you cannot save object \"Node(9)\" at all. In general this should not happen to unsaved objects unless you fixed the name of the object yourself. Check your code for the generation of objects of the same name.\n"
     ]
    }
   ],
   "source": [
    "try:\n",
    "    st.nodesunique.save(n2)\n",
    "except RuntimeWarning as e:\n",
    "    print('# We had an exception')\n",
    "    print(e)\n",
    "else:\n",
    "    raise RuntimeWarning('This should have produced an error')\n"
   ]
  },
  {
   "cell_type": "markdown",
   "metadata": {},
   "source": [
    "As said before this can only happen if you have more than one store for the same object type."
   ]
  },
  {
   "cell_type": "code",
   "execution_count": 69,
   "metadata": {},
   "outputs": [
    {
     "name": "stdout",
     "output_type": "stream",
     "text": [
      "{'MyNode': {0}}\n"
     ]
    }
   ],
   "source": [
    "# NBVAL_IGNORE_OUTPUT\n",
    "print(st.nodesunique.name_idx)"
   ]
  },
  {
   "cell_type": "markdown",
   "metadata": {},
   "source": [
    "some more tests. First saving onnamed objects. This is okay. Only given names should be unique."
   ]
  },
  {
   "cell_type": "code",
   "execution_count": 70,
   "metadata": {},
   "outputs": [],
   "source": [
    "# NBVAL_IGNORE_OUTPUT\n",
    "n3 = NamedNode(10)\n",
    "n4 = NamedNode(12)\n",
    "st.nodesunique.save(n3);\n",
    "st.nodesunique.save(n4);"
   ]
  },
  {
   "cell_type": "code",
   "execution_count": 71,
   "metadata": {},
   "outputs": [],
   "source": [
    "n5 = NamedNode(1)\n",
    "n5.name = 'MyNode'"
   ]
  },
  {
   "cell_type": "code",
   "execution_count": 72,
   "metadata": {},
   "outputs": [
    {
     "name": "stdout",
     "output_type": "stream",
     "text": [
      "# We had an exception\n",
      "Current name \"MyNode\" is already taken in unique name store nodesunique. Try renaming object or saving using other name.\n"
     ]
    }
   ],
   "source": [
    "try:\n",
    "    st.nodesunique.save(n5)\n",
    "except RuntimeWarning as e:\n",
    "    print('# We had an exception')\n",
    "    print(e)\n",
    "else:\n",
    "    raise RuntimeWarning('This should have produced an error')"
   ]
  },
  {
   "cell_type": "markdown",
   "metadata": {},
   "source": [
    "This works since it does a rename before saving."
   ]
  },
  {
   "cell_type": "code",
   "execution_count": 73,
   "metadata": {},
   "outputs": [],
   "source": [
    "# NBVAL_IGNORE_OUTPUT\n",
    "st.nodesunique.save(n5, 'NextNode');"
   ]
  },
  {
   "cell_type": "code",
   "execution_count": 74,
   "metadata": {},
   "outputs": [],
   "source": [
    "n6 = NamedNode(1)\n",
    "n6.name = 'SecondNode'"
   ]
  },
  {
   "cell_type": "code",
   "execution_count": 75,
   "metadata": {},
   "outputs": [
    {
     "name": "stdout",
     "output_type": "stream",
     "text": [
      "# We had an exception\n",
      "New name \"MyNode\" already taken in unique name store. Try different name instead./nCurrent name \"SecondNode\" is still free. Saving without giving a specific name should work\n"
     ]
    }
   ],
   "source": [
    "try:\n",
    "    st.nodesunique.save(n6, 'MyNode')\n",
    "except RuntimeWarning as e:\n",
    "    print('# We had an exception')\n",
    "    print(e)\n",
    "else:\n",
    "    raise RuntimeWarning('This should have produced an error')"
   ]
  },
  {
   "cell_type": "markdown",
   "metadata": {},
   "source": [
    "#### DictStore"
   ]
  },
  {
   "cell_type": "markdown",
   "metadata": {},
   "source": [
    "A dictstore works a like a dictionary on disk. The content is returned using `dict()`"
   ]
  },
  {
   "cell_type": "code",
   "execution_count": 76,
   "metadata": {},
   "outputs": [
    {
     "name": "stdout",
     "output_type": "stream",
     "text": [
      "{}\n",
      "{}\n"
     ]
    }
   ],
   "source": [
    "print(dict(st.dict))\n",
    "print(st.dict.name_idx)"
   ]
  },
  {
   "cell_type": "code",
   "execution_count": 77,
   "metadata": {},
   "outputs": [],
   "source": [
    "n1 = NamedNode(1)\n",
    "n2 = NamedNode(2)\n",
    "n3 = NamedNode(3)\n",
    "st.dict['Number1'] = n1"
   ]
  },
  {
   "cell_type": "code",
   "execution_count": 78,
   "metadata": {},
   "outputs": [
    {
     "name": "stdout",
     "output_type": "stream",
     "text": [
      "Number1 : Node(1) [0]\n"
     ]
    }
   ],
   "source": [
    "for key in sorted(st.dict):\n",
    "    obj = st.dict[key]\n",
    "    idxs = sorted(st.dict.name_idx[key])\n",
    "    print(key, ':', str(obj), idxs)"
   ]
  },
  {
   "cell_type": "code",
   "execution_count": 79,
   "metadata": {},
   "outputs": [],
   "source": [
    "st.dict['Number2'] = n2"
   ]
  },
  {
   "cell_type": "code",
   "execution_count": 80,
   "metadata": {},
   "outputs": [
    {
     "name": "stdout",
     "output_type": "stream",
     "text": [
      "Number1 : Node(1) [0]\n",
      "Number2 : Node(2) [1]\n"
     ]
    }
   ],
   "source": [
    "for key in sorted(st.dict):\n",
    "    obj = st.dict[key]\n",
    "    idxs = sorted(st.dict.name_idx[key])\n",
    "    print(key, ':', str(obj), idxs)"
   ]
  },
  {
   "cell_type": "code",
   "execution_count": 81,
   "metadata": {},
   "outputs": [],
   "source": [
    "st.dict['Number1'] = n3"
   ]
  },
  {
   "cell_type": "code",
   "execution_count": 82,
   "metadata": {},
   "outputs": [
    {
     "name": "stdout",
     "output_type": "stream",
     "text": [
      "Number1 : Node(3) [0, 2]\n",
      "Number2 : Node(2) [1]\n"
     ]
    }
   ],
   "source": [
    "for key in sorted(st.dict):\n",
    "    obj = st.dict[key]\n",
    "    idxs = sorted(st.dict.name_idx[key])\n",
    "    print(key, ':', str(obj), idxs)"
   ]
  },
  {
   "cell_type": "code",
   "execution_count": 83,
   "metadata": {},
   "outputs": [
    {
     "name": "stdout",
     "output_type": "stream",
     "text": [
      "Node(3)\n"
     ]
    }
   ],
   "source": [
    "print(st.dict['Number1'])"
   ]
  },
  {
   "cell_type": "code",
   "execution_count": 84,
   "metadata": {},
   "outputs": [
    {
     "name": "stdout",
     "output_type": "stream",
     "text": [
      "Node(3)\n"
     ]
    }
   ],
   "source": [
    "print(st.dict.find('Number1'))"
   ]
  },
  {
   "cell_type": "code",
   "execution_count": 85,
   "metadata": {},
   "outputs": [
    {
     "name": "stdout",
     "output_type": "stream",
     "text": [
      "[ {\"_hex_uuid\":\"0xe3d4c53a010011ef9d1f00000000004a\",\"_store\":\"nodesunique\"}, {\"_hex_uuid\":\"0xe3d4c53a010011ef9d1f00000000004c\",\"_store\":\"nodesunique\"}, {\"_hex_uuid\":\"0xe3d4c53a010011ef9d1f00000000004e\",\"_store\":\"nodesunique\"} ]\n"
     ]
    }
   ],
   "source": [
    "# NBVAL_IGNORE_OUTPUT\n",
    "print('[', ', '.join(st.dict.variables['json'][:]), ']')"
   ]
  },
  {
   "cell_type": "code",
   "execution_count": 86,
   "metadata": {},
   "outputs": [
    {
     "name": "stdout",
     "output_type": "stream",
     "text": [
      "Number1 : Node(3) [0, 2]\n",
      "Number2 : Node(2) [1]\n"
     ]
    }
   ],
   "source": [
    "for key in sorted(st.dict):\n",
    "    obj = st.dict[key]\n",
    "    idxs = sorted(st.dict.name_idx[key])\n",
    "    print(key, ':', str(obj), idxs)"
   ]
  },
  {
   "cell_type": "markdown",
   "metadata": {},
   "source": [
    "#### ImmutableDictStore"
   ]
  },
  {
   "cell_type": "markdown",
   "metadata": {},
   "source": [
    "This adds the check that already used names cannot be used again"
   ]
  },
  {
   "cell_type": "code",
   "execution_count": 87,
   "metadata": {},
   "outputs": [
    {
     "name": "stdout",
     "output_type": "stream",
     "text": [
      "# We had an exception\n",
      "Cannot re-save existing key \"Number1\" in immutable dict store.\n"
     ]
    }
   ],
   "source": [
    "try:\n",
    "    st.dictimmutable['Number1'] = n1\n",
    "    st.dictimmutable['Number1'] = n2\n",
    "except RuntimeWarning as e:\n",
    "    print('# We had an exception')\n",
    "    print(e)\n",
    "else:\n",
    "    raise RuntimeWarning('This should have produced an error')"
   ]
  },
  {
   "cell_type": "markdown",
   "metadata": {
    "collapsed": true,
    "jupyter": {
     "outputs_hidden": true
    }
   },
   "source": [
    "#### VariableStore"
   ]
  },
  {
   "cell_type": "markdown",
   "metadata": {},
   "source": [
    "Store a node with an int as we defined for our `VariableStore`"
   ]
  },
  {
   "cell_type": "code",
   "execution_count": 88,
   "metadata": {},
   "outputs": [],
   "source": [
    "# NBVAL_IGNORE_OUTPUT\n",
    "a = Node(30)\n",
    "st.varstore.save(a);"
   ]
  },
  {
   "cell_type": "markdown",
   "metadata": {},
   "source": [
    "clear the cache"
   ]
  },
  {
   "cell_type": "code",
   "execution_count": 89,
   "metadata": {},
   "outputs": [],
   "source": [
    "st.varstore.clear_cache()"
   ]
  },
  {
   "cell_type": "markdown",
   "metadata": {},
   "source": [
    "And try loading"
   ]
  },
  {
   "cell_type": "code",
   "execution_count": 90,
   "metadata": {},
   "outputs": [],
   "source": [
    "assert(st.varstore[0].value == 30)"
   ]
  },
  {
   "cell_type": "markdown",
   "metadata": {},
   "source": [
    "Try storing non int() parseable value"
   ]
  },
  {
   "cell_type": "code",
   "execution_count": 91,
   "metadata": {},
   "outputs": [
    {
     "name": "stdout",
     "output_type": "stream",
     "text": [
      "# We had an exception\n",
      "invalid literal for int() with base 10: 'test'\n"
     ]
    }
   ],
   "source": [
    "try:\n",
    "    a = Node('test')\n",
    "    print(st.varstore.save(a))\n",
    "except ValueError as e:\n",
    "    print('# We had an exception')\n",
    "    print(e)\n",
    "else:\n",
    "    raise RuntimeWarning('This should have produced an error')"
   ]
  },
  {
   "cell_type": "markdown",
   "metadata": {},
   "source": [
    "### Test fallback"
   ]
  },
  {
   "cell_type": "code",
   "execution_count": 92,
   "metadata": {},
   "outputs": [],
   "source": [
    "st_uuid = NetCDFPlus('test_netcdfplus_uuid.nc', mode='w')\n",
    "st_uuid.create_store('nodes', ObjectStore(Node))\n",
    "st_uuid.finalize_stores()\n",
    "st_uuid.save(st.nodes[0])\n",
    "st_uuid.close()"
   ]
  },
  {
   "cell_type": "code",
   "execution_count": 93,
   "metadata": {},
   "outputs": [],
   "source": [
    "st.close()"
   ]
  },
  {
   "cell_type": "code",
   "execution_count": 94,
   "metadata": {},
   "outputs": [],
   "source": [
    "st_fb = NetCDFPlus('test_netcdfplus_fb.nc', mode='w', fallback=NetCDFPlus('test_netcdfplus_uuid.nc'))\n",
    "st_fb.create_store('nodes', ObjectStore(Node))\n",
    "st_fb.finalize_stores()"
   ]
  },
  {
   "cell_type": "code",
   "execution_count": 95,
   "metadata": {},
   "outputs": [
    {
     "data": {
      "text/plain": [
       "True"
      ]
     },
     "execution_count": 95,
     "metadata": {},
     "output_type": "execute_result"
    }
   ],
   "source": [
    "st_fb.exclude_from_fallback"
   ]
  },
  {
   "cell_type": "code",
   "execution_count": 96,
   "metadata": {},
   "outputs": [],
   "source": [
    "assert(st_fb.fallback.nodes[0] in st_fb.fallback)"
   ]
  },
  {
   "cell_type": "code",
   "execution_count": 97,
   "metadata": {},
   "outputs": [],
   "source": [
    "assert(st_fb.fallback.nodes[0] in st_fb)"
   ]
  },
  {
   "cell_type": "code",
   "execution_count": 98,
   "metadata": {},
   "outputs": [],
   "source": [
    "assert(st.nodes[0] in st_fb)"
   ]
  },
  {
   "cell_type": "code",
   "execution_count": 99,
   "metadata": {},
   "outputs": [],
   "source": [
    "assert(st.nodes[0] in st_fb.fallback)"
   ]
  },
  {
   "cell_type": "markdown",
   "metadata": {},
   "source": [
    "Try saving object in fallback"
   ]
  },
  {
   "cell_type": "code",
   "execution_count": 100,
   "metadata": {},
   "outputs": [
    {
     "name": "stdout",
     "output_type": "stream",
     "text": [
      "0xe3d4c53a010011ef9d1f000000000014\n"
     ]
    }
   ],
   "source": [
    "# NBVAL_IGNORE_OUTPUT\n",
    "print(hex(st_fb.nodes.save(st_fb.fallback.nodes[0])))"
   ]
  },
  {
   "cell_type": "code",
   "execution_count": 101,
   "metadata": {},
   "outputs": [],
   "source": [
    "assert(len(st_fb.nodes) == 0)"
   ]
  },
  {
   "cell_type": "code",
   "execution_count": 102,
   "metadata": {},
   "outputs": [],
   "source": [
    "assert(st_fb.fallback.nodes[0] in st_fb)\n",
    "assert(st_fb.fallback.nodes[0] in st_fb.fallback)\n",
    "assert(st.nodes[0] in st_fb)\n",
    "assert(st.nodes[0] in st_fb.fallback)"
   ]
  },
  {
   "cell_type": "code",
   "execution_count": 103,
   "metadata": {},
   "outputs": [],
   "source": [
    "st_fb.fallback.close()\n",
    "st_fb.close()"
   ]
  }
 ],
 "metadata": {
  "anaconda-cloud": {},
  "kernelspec": {
   "display_name": "Python 3 (ipykernel)",
   "language": "python",
   "name": "python3"
  },
  "language_info": {
   "codemirror_mode": {
    "name": "ipython",
    "version": 3
   },
   "file_extension": ".py",
   "mimetype": "text/x-python",
   "name": "python",
   "nbconvert_exporter": "python",
   "pygments_lexer": "ipython3",
   "version": "3.11.7"
  },
  "toc": {
   "base_numbering": 1,
   "nav_menu": {},
   "number_sections": true,
   "sideBar": true,
   "skip_h1_title": true,
   "title_cell": "Table of Contents",
   "title_sidebar": "Contents",
   "toc_cell": false,
   "toc_position": {},
   "toc_section_display": true,
   "toc_window_display": true
  },
  "varInspector": {
   "cols": {
    "lenName": 16,
    "lenType": 16,
    "lenVar": 40
   },
   "kernels_config": {
    "python": {
     "delete_cmd_postfix": "",
     "delete_cmd_prefix": "del ",
     "library": "var_list.py",
     "varRefreshCmd": "print(var_dic_list())"
    },
    "r": {
     "delete_cmd_postfix": ") ",
     "delete_cmd_prefix": "rm(",
     "library": "var_list.r",
     "varRefreshCmd": "cat(var_dic_list()) "
    }
   },
   "types_to_exclude": [
    "module",
    "function",
    "builtin_function_or_method",
    "instance",
    "_Feature"
   ],
   "window_display": false
  }
 },
 "nbformat": 4,
 "nbformat_minor": 4
}
